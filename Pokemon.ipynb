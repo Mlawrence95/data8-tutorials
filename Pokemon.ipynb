{
 "cells": [
  {
   "cell_type": "markdown",
   "metadata": {},
   "source": [
    "Data taken from:\n",
    "\n",
    "https://www.kaggle.com/abcsds/pokemon/downloads/pokemon.zip/2\n",
    "\n",
    "(or https://www.kaggle.com/abcsds/pokemon if you don't like downloading things from links)"
   ]
  },
  {
   "cell_type": "code",
   "execution_count": 16,
   "metadata": {},
   "outputs": [],
   "source": [
    "from datascience import *\n",
    "import numpy as np\n",
    "import matplotlib.pyplot as plt\n",
    "\n",
    "%matplotlib inline"
   ]
  },
  {
   "cell_type": "code",
   "execution_count": 13,
   "metadata": {},
   "outputs": [],
   "source": [
    "pokemon = Table().read_table('Pokemon.csv')\n",
    "pokemon = pokemon.drop('Type 2').relabeled('Type 1','Type')"
   ]
  },
  {
   "cell_type": "code",
   "execution_count": 14,
   "metadata": {},
   "outputs": [
    {
     "data": {
      "text/html": [
       "<table border=\"1\" class=\"dataframe\">\n",
       "    <thead>\n",
       "        <tr>\n",
       "            <th>#</th> <th>Name</th> <th>Type</th> <th>Total</th> <th>HP</th> <th>Attack</th> <th>Defense</th> <th>Sp. Atk</th> <th>Sp. Def</th> <th>Speed</th> <th>Generation</th> <th>Legendary</th>\n",
       "        </tr>\n",
       "    </thead>\n",
       "    <tbody>\n",
       "        <tr>\n",
       "            <td>1   </td> <td>Bulbasaur                </td> <td>Grass</td> <td>318  </td> <td>45  </td> <td>49    </td> <td>49     </td> <td>65     </td> <td>65     </td> <td>45   </td> <td>1         </td> <td>False    </td>\n",
       "        </tr>\n",
       "        <tr>\n",
       "            <td>2   </td> <td>Ivysaur                  </td> <td>Grass</td> <td>405  </td> <td>60  </td> <td>62    </td> <td>63     </td> <td>80     </td> <td>80     </td> <td>60   </td> <td>1         </td> <td>False    </td>\n",
       "        </tr>\n",
       "        <tr>\n",
       "            <td>3   </td> <td>Venusaur                 </td> <td>Grass</td> <td>525  </td> <td>80  </td> <td>82    </td> <td>83     </td> <td>100    </td> <td>100    </td> <td>80   </td> <td>1         </td> <td>False    </td>\n",
       "        </tr>\n",
       "        <tr>\n",
       "            <td>3   </td> <td>VenusaurMega Venusaur    </td> <td>Grass</td> <td>625  </td> <td>80  </td> <td>100   </td> <td>123    </td> <td>122    </td> <td>120    </td> <td>80   </td> <td>1         </td> <td>False    </td>\n",
       "        </tr>\n",
       "        <tr>\n",
       "            <td>4   </td> <td>Charmander               </td> <td>Fire </td> <td>309  </td> <td>39  </td> <td>52    </td> <td>43     </td> <td>60     </td> <td>50     </td> <td>65   </td> <td>1         </td> <td>False    </td>\n",
       "        </tr>\n",
       "        <tr>\n",
       "            <td>5   </td> <td>Charmeleon               </td> <td>Fire </td> <td>405  </td> <td>58  </td> <td>64    </td> <td>58     </td> <td>80     </td> <td>65     </td> <td>80   </td> <td>1         </td> <td>False    </td>\n",
       "        </tr>\n",
       "        <tr>\n",
       "            <td>6   </td> <td>Charizard                </td> <td>Fire </td> <td>534  </td> <td>78  </td> <td>84    </td> <td>78     </td> <td>109    </td> <td>85     </td> <td>100  </td> <td>1         </td> <td>False    </td>\n",
       "        </tr>\n",
       "        <tr>\n",
       "            <td>6   </td> <td>CharizardMega Charizard X</td> <td>Fire </td> <td>634  </td> <td>78  </td> <td>130   </td> <td>111    </td> <td>130    </td> <td>85     </td> <td>100  </td> <td>1         </td> <td>False    </td>\n",
       "        </tr>\n",
       "        <tr>\n",
       "            <td>6   </td> <td>CharizardMega Charizard Y</td> <td>Fire </td> <td>634  </td> <td>78  </td> <td>104   </td> <td>78     </td> <td>159    </td> <td>115    </td> <td>100  </td> <td>1         </td> <td>False    </td>\n",
       "        </tr>\n",
       "        <tr>\n",
       "            <td>7   </td> <td>Squirtle                 </td> <td>Water</td> <td>314  </td> <td>44  </td> <td>48    </td> <td>65     </td> <td>50     </td> <td>64     </td> <td>43   </td> <td>1         </td> <td>False    </td>\n",
       "        </tr>\n",
       "    </tbody>\n",
       "</table>\n",
       "<p>... (790 rows omitted)</p>"
      ],
      "text/plain": [
       "#    | Name                      | Type  | Total | HP   | Attack | Defense | Sp. Atk | Sp. Def | Speed | Generation | Legendary\n",
       "1    | Bulbasaur                 | Grass | 318   | 45   | 49     | 49      | 65      | 65      | 45    | 1          | False\n",
       "2    | Ivysaur                   | Grass | 405   | 60   | 62     | 63      | 80      | 80      | 60    | 1          | False\n",
       "3    | Venusaur                  | Grass | 525   | 80   | 82     | 83      | 100     | 100     | 80    | 1          | False\n",
       "3    | VenusaurMega Venusaur     | Grass | 625   | 80   | 100    | 123     | 122     | 120     | 80    | 1          | False\n",
       "4    | Charmander                | Fire  | 309   | 39   | 52     | 43      | 60      | 50      | 65    | 1          | False\n",
       "5    | Charmeleon                | Fire  | 405   | 58   | 64     | 58      | 80      | 65      | 80    | 1          | False\n",
       "6    | Charizard                 | Fire  | 534   | 78   | 84     | 78      | 109     | 85      | 100   | 1          | False\n",
       "6    | CharizardMega Charizard X | Fire  | 634   | 78   | 130    | 111     | 130     | 85      | 100   | 1          | False\n",
       "6    | CharizardMega Charizard Y | Fire  | 634   | 78   | 104    | 78      | 159     | 115     | 100   | 1          | False\n",
       "7    | Squirtle                  | Water | 314   | 44   | 48     | 65      | 50      | 64      | 43    | 1          | False\n",
       "... (790 rows omitted)"
      ]
     },
     "execution_count": 14,
     "metadata": {},
     "output_type": "execute_result"
    }
   ],
   "source": [
    "pokemon"
   ]
  },
  {
   "cell_type": "markdown",
   "metadata": {},
   "source": [
    "1.\n",
    "\n",
    "(Two solutions)"
   ]
  },
  {
   "cell_type": "code",
   "execution_count": 25,
   "metadata": {},
   "outputs": [
    {
     "data": {
      "text/plain": [
       "'Wailord'"
      ]
     },
     "execution_count": 25,
     "metadata": {},
     "output_type": "execute_result"
    }
   ],
   "source": [
    "water_pokemon = pokemon.sort(\"HP\", descending=True)\n",
    "water_pokemon.where(\"Type\", \"Water\").column('Name').item(0)"
   ]
  },
  {
   "cell_type": "code",
   "execution_count": 26,
   "metadata": {},
   "outputs": [
    {
     "data": {
      "text/plain": [
       "'Wailord'"
      ]
     },
     "execution_count": 26,
     "metadata": {},
     "output_type": "execute_result"
    }
   ],
   "source": [
    "water_pokemon = pokemon.where(\"Type\", \"Water\")\n",
    "water_pokemon.sort(\"HP\", descending=True).column('Name').item(0)"
   ]
  },
  {
   "cell_type": "markdown",
   "metadata": {},
   "source": [
    "2."
   ]
  },
  {
   "cell_type": "code",
   "execution_count": null,
   "metadata": {},
   "outputs": [],
   "source": [
    "fire_pokemon = pokemon.___(___,___)\n",
    "fire_pokemon.___(___,___).___/___"
   ]
  },
  {
   "cell_type": "markdown",
   "metadata": {},
   "source": [
    "3."
   ]
  },
  {
   "cell_type": "code",
   "execution_count": null,
   "metadata": {},
   "outputs": [],
   "source": [
    "d = pokemon.___(___,___)\n",
    "d.sort('HP mean',___).___(___,___)"
   ]
  },
  {
   "cell_type": "markdown",
   "metadata": {},
   "source": [
    "4."
   ]
  },
  {
   "cell_type": "code",
   "execution_count": null,
   "metadata": {},
   "outputs": [],
   "source": [
    "generation = pokemon.___(___,___)\\\n",
    ".sort('Generation',descending=False)\n",
    "\n",
    "___(np.diff(___,___('HP mean')))"
   ]
  },
  {
   "cell_type": "markdown",
   "metadata": {},
   "source": [
    "5."
   ]
  },
  {
   "cell_type": "code",
   "execution_count": null,
   "metadata": {},
   "outputs": [],
   "source": [
    "t = pokemon.___(___,___)\n",
    "ration = t.___(___)/t.___(___)"
   ]
  }
 ],
 "metadata": {
  "kernelspec": {
   "display_name": "Python 3",
   "language": "python",
   "name": "python3"
  },
  "language_info": {
   "codemirror_mode": {
    "name": "ipython",
    "version": 3
   },
   "file_extension": ".py",
   "mimetype": "text/x-python",
   "name": "python",
   "nbconvert_exporter": "python",
   "pygments_lexer": "ipython3",
   "version": "3.6.4"
  }
 },
 "nbformat": 4,
 "nbformat_minor": 2
}
